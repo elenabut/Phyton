{
 "cells": [
  {
   "cell_type": "markdown",
   "metadata": {},
   "source": [
    "## Исходные данные"
   ]
  },
  {
   "cell_type": "code",
   "execution_count": 105,
   "metadata": {},
   "outputs": [],
   "source": [
    "documents = [\n",
    " {'type': 'passport', 'number': '2207 876234', 'name': 'Василий Гупкин'},\n",
    " {'type': 'invoice', 'number': '11-2', 'name': 'Геннадий Покемонов'},\n",
    " {'type': 'insurance', 'number': '10006', 'name': 'Аристарх Павлов'}\n",
    "]\n",
    "directories = {\n",
    " '1': ['2207 876234', '11-2'],\n",
    " '2': ['10006'],\n",
    " '3': []\n",
    "}"
   ]
  },
  {
   "cell_type": "markdown",
   "metadata": {},
   "source": [
    "### Пункт 1. Пользователь по команде “p” может узнать владельца документа по его номеру"
   ]
  },
  {
   "cell_type": "code",
   "execution_count": 50,
   "metadata": {},
   "outputs": [],
   "source": [
    "def p():\n",
    "    num = input(\"Введите номер документа: \")\n",
    "    for dic in documents:\n",
    "        if dic['number'] == num:\n",
    "            print(f\"Владелец документа: {dic['name']}\")\n",
    "            return\n",
    "    print('Документ не найден в базе')"
   ]
  },
  {
   "cell_type": "code",
   "execution_count": 51,
   "metadata": {},
   "outputs": [
    {
     "name": "stdout",
     "output_type": "stream",
     "text": [
      "Введите номер документа: 10006\n",
      "Владелец документа: Аристарх Павлов\n"
     ]
    }
   ],
   "source": [
    "p()"
   ]
  },
  {
   "cell_type": "code",
   "execution_count": 52,
   "metadata": {},
   "outputs": [
    {
     "name": "stdout",
     "output_type": "stream",
     "text": [
      "Введите номер документа: 12345\n",
      "Документ не найден в базе\n"
     ]
    }
   ],
   "source": [
    "p()"
   ]
  },
  {
   "cell_type": "markdown",
   "metadata": {},
   "source": [
    "### Пункт 2. Пользователь по команде “s” может по номеру документа узнать на какой полке он хранится"
   ]
  },
  {
   "cell_type": "code",
   "execution_count": 53,
   "metadata": {},
   "outputs": [],
   "source": [
    "def s():\n",
    "    num = input(\"Введите номер документа: \")\n",
    "    for dir in directories:\n",
    "        if num in directories[dir]: \n",
    "            print(f\"Документ хранится на полке: {dir}\" )\n",
    "            return\n",
    "    print('Документ не найден в базе')"
   ]
  },
  {
   "cell_type": "code",
   "execution_count": 54,
   "metadata": {},
   "outputs": [
    {
     "name": "stdout",
     "output_type": "stream",
     "text": [
      "Введите номер документа: 10006\n",
      "Документ хранится на полке: 2\n"
     ]
    }
   ],
   "source": [
    "s()"
   ]
  },
  {
   "cell_type": "code",
   "execution_count": 55,
   "metadata": {},
   "outputs": [
    {
     "name": "stdout",
     "output_type": "stream",
     "text": [
      "Введите номер документа: 12345\n",
      "Документ не найден в базе\n"
     ]
    }
   ],
   "source": [
    "s()"
   ]
  },
  {
   "cell_type": "markdown",
   "metadata": {},
   "source": [
    "### Пункт 3. Пользователь по команде “l” может увидеть полную информацию по всем документам"
   ]
  },
  {
   "cell_type": "code",
   "execution_count": 47,
   "metadata": {},
   "outputs": [
    {
     "name": "stdout",
     "output_type": "stream",
     "text": [
      "№: 2207 876234, тип: passport, владелец: Василий Гупкин\n",
      "№: 11-2, тип: invoice, владелец: Геннадий Покемонов\n",
      "№: 10006, тип: insurance, владелец: Аристарх Павлов\n"
     ]
    }
   ],
   "source": [
    "def l():\n",
    "    for dic in documents:\n",
    "        type = dic['type']\n",
    "        number = dic['number']\n",
    "        name = dic['name']\n",
    "        print('№: {1}, тип: {0}, владелец: {2}'.format(type, number, name))\n",
    "        \n",
    "l()"
   ]
  },
  {
   "cell_type": "markdown",
   "metadata": {},
   "source": [
    "### Пункт 4. Пользователь по команде “ads” может добавить новую полку"
   ]
  },
  {
   "cell_type": "code",
   "execution_count": 86,
   "metadata": {},
   "outputs": [],
   "source": [
    "def ads():\n",
    "    res = \"\";\n",
    "    shelf = input(\"Введите номер полки: \")\n",
    "    if shelf in directories:\n",
    "        res += \"Такая полка уже существует.\"\n",
    "    else:\n",
    "        directories[shelf] = []\n",
    "        res += \"Полка добавлена.\"\n",
    "    print(f\"{res} Текущий перечень полок: {', '.join(directories.keys())}.\")"
   ]
  },
  {
   "cell_type": "code",
   "execution_count": 97,
   "metadata": {},
   "outputs": [
    {
     "name": "stdout",
     "output_type": "stream",
     "text": [
      "Введите номер полки: 1\n",
      "Такая полка уже существует. Текущий перечень полок: 1, 2, 3.\n"
     ]
    }
   ],
   "source": [
    "ads()"
   ]
  },
  {
   "cell_type": "code",
   "execution_count": 98,
   "metadata": {},
   "outputs": [
    {
     "name": "stdout",
     "output_type": "stream",
     "text": [
      "Введите номер полки: 10\n",
      "Полка добавлена. Текущий перечень полок: 1, 2, 3, 10.\n"
     ]
    }
   ],
   "source": [
    "ads()"
   ]
  },
  {
   "cell_type": "markdown",
   "metadata": {},
   "source": [
    "### Вопрос: понимаю что Задание 5 решено не корректно. Т.к. directories обновлен (добавлена полка 10 с п.4, удалена полка 3 в пункет 5) Не могу разобраться, как сделать так, чтобы directories не менялись после запуска функций\n",
    "\n",
    "\n",
    "### Пункт 5. Пользователь по команде “ds” может удалить существующую полку из данных (только если она пустая)"
   ]
  },
  {
   "cell_type": "code",
   "execution_count": 101,
   "metadata": {},
   "outputs": [],
   "source": [
    "def ds():\n",
    "    res1 = \"\";\n",
    "    shelf = input(\"Введите номер полки: \")\n",
    "    if shelf not in directories:\n",
    "        res1 += \"Такой полки не существует.\"\n",
    "    elif len(directories[shelf]) > 0:\n",
    "        res1 += \"На полке есть документа, удалите их перед удалением полки.\"\n",
    "    else:\n",
    "        del directories[shelf]\n",
    "        res1 += \"Полка удалена.\"\n",
    "    print(f\"{res1} Текущий перечень полок: {', '.join(directories.keys())}.\")"
   ]
  },
  {
   "cell_type": "code",
   "execution_count": 102,
   "metadata": {},
   "outputs": [
    {
     "name": "stdout",
     "output_type": "stream",
     "text": [
      "Введите номер полки: 3\n",
      "Полка удалена. Текущий перечень полок: 1, 2.\n"
     ]
    }
   ],
   "source": [
    "ds()"
   ]
  },
  {
   "cell_type": "code",
   "execution_count": 103,
   "metadata": {},
   "outputs": [
    {
     "name": "stdout",
     "output_type": "stream",
     "text": [
      "Введите номер полки: 1\n",
      "На полке есть документа, удалите их перед удалением полки. Текущий перечень полок: 1, 2.\n"
     ]
    }
   ],
   "source": [
    "ds()"
   ]
  },
  {
   "cell_type": "code",
   "execution_count": 104,
   "metadata": {},
   "outputs": [
    {
     "name": "stdout",
     "output_type": "stream",
     "text": [
      "Введите номер полки: 4\n",
      "Такой полки не существует. Текущий перечень полок: 1, 2.\n"
     ]
    }
   ],
   "source": [
    "ds()"
   ]
  }
 ],
 "metadata": {
  "kernelspec": {
   "display_name": "Python 3",
   "language": "python",
   "name": "python3"
  },
  "language_info": {
   "codemirror_mode": {
    "name": "ipython",
    "version": 3
   },
   "file_extension": ".py",
   "mimetype": "text/x-python",
   "name": "python",
   "nbconvert_exporter": "python",
   "pygments_lexer": "ipython3",
   "version": "3.8.5"
  }
 },
 "nbformat": 4,
 "nbformat_minor": 4
}
