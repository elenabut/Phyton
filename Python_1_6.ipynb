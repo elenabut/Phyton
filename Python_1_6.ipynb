{
 "cells": [
  {
   "cell_type": "markdown",
   "metadata": {},
   "source": [
    "### Задание 1\n",
    "\n",
    "Печатные газеты использовали свой формат дат для каждого выпуска. Для каждой газеты из списка напишите формат указанной даты для перевода в объект datetime:\n",
    "\n",
    "The Moscow Times - Wednesday, October 2, 2002\n",
    "The Guardian - Friday, 11.10.13\n",
    "Daily News - Thursday, 18 August 1977"
   ]
  },
  {
   "cell_type": "code",
   "execution_count": 2,
   "metadata": {},
   "outputs": [],
   "source": [
    "from datetime import datetime, timedelta"
   ]
  },
  {
   "cell_type": "code",
   "execution_count": 4,
   "metadata": {},
   "outputs": [
    {
     "name": "stdout",
     "output_type": "stream",
     "text": [
      "The Moscow Times -  Wednesday, October 2, 2002\n"
     ]
    }
   ],
   "source": [
    "dt_example_1 = datetime(2002, 10, 2, 0, 0)\n",
    "dt_mt_1 = dt_example_1.strftime(\"%A, %B %#d, %Y\")\n",
    "print(\"The Moscow Times - \", dt_mt_1)"
   ]
  },
  {
   "cell_type": "code",
   "execution_count": 8,
   "metadata": {},
   "outputs": [
    {
     "name": "stdout",
     "output_type": "stream",
     "text": [
      "The Guardian -  Friday, 11.10.13\n"
     ]
    }
   ],
   "source": [
    "dt_example_2 = datetime(2013, 10, 11, 0, 0)\n",
    "dt_mt_2 = dt_example_2.strftime(\"%A, %d.%m.%y\")\n",
    "print(\"The Guardian - \", dt_mt_2)"
   ]
  },
  {
   "cell_type": "code",
   "execution_count": 10,
   "metadata": {},
   "outputs": [
    {
     "name": "stdout",
     "output_type": "stream",
     "text": [
      "Daily News -  Thursday, 18 August 1977\n"
     ]
    }
   ],
   "source": [
    "dt_example_3 = datetime(1977, 8, 18, 0, 0)\n",
    "dt_mt_3 = dt_example_3.strftime(\"%A, %#d %B %Y\")\n",
    "print(\"Daily News - \", dt_mt_3)"
   ]
  },
  {
   "cell_type": "markdown",
   "metadata": {},
   "source": [
    "### Задание 2\n",
    "Дан поток дат в формате YYYY-MM-DD, в которых встречаются некорректные значения:\n",
    "stream = [‘2018-04-02’, ‘2018-02-29’, ‘2018-19-02’]\n",
    "\n",
    "Напишите функцию, которая проверяет эти даты на корректность. Т. е. для каждой даты возвращает True (дата корректна) или False (некорректная дата)."
   ]
  },
  {
   "cell_type": "code",
   "execution_count": 12,
   "metadata": {},
   "outputs": [
    {
     "name": "stdout",
     "output_type": "stream",
     "text": [
      "True\n",
      "False\n",
      "False\n"
     ]
    }
   ],
   "source": [
    "stream = ['2018-04-02', '2018-02-29', '2018-19-02']\n",
    "def check_date(list_date):\n",
    "    for date in list_date:\n",
    "        try:\n",
    "            valid_date = datetime.strptime(date, '%Y-%m-%d')\n",
    "            print(True)    \n",
    "        except ValueError:\n",
    "            print(False)\n",
    "            \n",
    "check_date(stream)    "
   ]
  },
  {
   "cell_type": "markdown",
   "metadata": {},
   "source": [
    "### Задание 3\n",
    "\n",
    "Вопрос:  на мой взгляд функция написана корректно. В чем ошибка ?\n",
    "\n",
    "Напишите функцию date_range, которая возвращает список дат за период от start_date до end_date. Даты должны вводиться в формате YYYY-MM-DD. В случае неверного формата или при start_date > end_date должен возвращаться пустой список."
   ]
  },
  {
   "cell_type": "code",
   "execution_count": 48,
   "metadata": {},
   "outputs": [
    {
     "name": "stdout",
     "output_type": "stream",
     "text": [
      "Введите стартовую дату в формате YYYY-MM-DD:\n",
      "2021-01-01\n",
      "Введите конечную дату в формате YYYY-MM-DD:\n",
      "2021-01-15\n"
     ]
    }
   ],
   "source": [
    "start_date = input(\"Введите стартовую дату в формате YYYY-MM-DD:\\n\")\n",
    "end_date = input(\"Введите конечную дату в формате YYYY-MM-DD:\\n\")\n"
   ]
  },
  {
   "cell_type": "code",
   "execution_count": 51,
   "metadata": {},
   "outputs": [],
   "source": [
    "def get_dates(start_date, end_date):\n",
    "    dates_1 = []\n",
    "    if not check_date(start_date) or not check_date(end_date):\n",
    "        print(dates_1)\n",
    "        return\n",
    "    start_dt = datetime.strptime(start_date, \"%Y-%m-%d\")\n",
    "    end_dt = datetime.strptime(end_date, \"%Y-%m-%d\")\n",
    "    if start_dt > end_dt:\n",
    "        print(dates_1)\n",
    "        return\n",
    "    res_dt = start_dt\n",
    "    while current_dt <= end_dt:\n",
    "        list_dates.append(res_dt.strftime(\"%Y-%m-%d\"))\n",
    "        res_dt += timedelta(days=1)\n",
    "    print('\\n'.join(dates_1))"
   ]
  },
  {
   "cell_type": "code",
   "execution_count": 52,
   "metadata": {},
   "outputs": [
    {
     "name": "stdout",
     "output_type": "stream",
     "text": [
      "False\n",
      "False\n",
      "False\n",
      "False\n",
      "False\n",
      "False\n",
      "False\n",
      "False\n",
      "False\n",
      "False\n",
      "[]\n"
     ]
    }
   ],
   "source": [
    "get_dates(start_date, end_date)"
   ]
  }
 ],
 "metadata": {
  "kernelspec": {
   "display_name": "Python 3",
   "language": "python",
   "name": "python3"
  },
  "language_info": {
   "codemirror_mode": {
    "name": "ipython",
    "version": 3
   },
   "file_extension": ".py",
   "mimetype": "text/x-python",
   "name": "python",
   "nbconvert_exporter": "python",
   "pygments_lexer": "ipython3",
   "version": "3.8.5"
  }
 },
 "nbformat": 4,
 "nbformat_minor": 4
}
